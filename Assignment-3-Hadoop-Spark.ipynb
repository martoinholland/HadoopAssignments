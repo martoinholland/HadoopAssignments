{
 "cells": [
  {
   "cell_type": "code",
   "execution_count": 1,
   "metadata": {},
   "outputs": [
    {
     "data": {
      "text/plain": [
       "<function findspark.find()>"
      ]
     },
     "execution_count": 1,
     "metadata": {},
     "output_type": "execute_result"
    }
   ],
   "source": [
    "#First we have to import findspark and provide the location of our spark executor.\n",
    "import findspark\n",
    "findspark.init(\"/Users/martin/Downloads/spark-3.1.2-bin-hadoop3.2\")\n",
    "findspark.find"
   ]
  },
  {
   "cell_type": "code",
   "execution_count": 2,
   "metadata": {},
   "outputs": [],
   "source": [
    "#Import all necessary components\n",
    "from pyspark.sql import SparkSession\n",
    "from pyspark.sql.types import *\n",
    "from pyspark.sql.functions import *\n",
    "import pyspark"
   ]
  },
  {
   "cell_type": "code",
   "execution_count": 3,
   "metadata": {},
   "outputs": [],
   "source": [
    "#Configurate Spark parameters\n",
    "spark = SparkSession.builder \\\n",
    ".master(\"local\") \\\n",
    ".appName(\"Sparky\") \\\n",
    ".config(\"spark.executor.memory\", \"1gb\") \\\n",
    ".getOrCreate()\n",
    "\n",
    "sc = spark.sparkContext"
   ]
  },
  {
   "cell_type": "code",
   "execution_count": 4,
   "metadata": {},
   "outputs": [
    {
     "name": "stdout",
     "output_type": "stream",
     "text": [
      "+--------+------+--------------------+------+---+-----------------------+-----------------------+-------+\n",
      "|Survived|Pclass|                Name|   Sex|Age|Siblings/Spouses Aboard|Parents/Children Aboard|   Fare|\n",
      "+--------+------+--------------------+------+---+-----------------------+-----------------------+-------+\n",
      "|       0|     3|Mr. Owen Harris B...|  male| 22|                      1|                      0|   7.25|\n",
      "|       1|     1|Mrs. John Bradley...|female| 38|                      1|                      0|71.2833|\n",
      "|       1|     3|Miss. Laina Heikk...|female| 26|                      0|                      0|  7.925|\n",
      "|       1|     1|Mrs. Jacques Heat...|female| 35|                      1|                      0|   53.1|\n",
      "|       0|     3|Mr. William Henry...|  male| 35|                      0|                      0|   8.05|\n",
      "|       0|     3|     Mr. James Moran|  male| 27|                      0|                      0| 8.4583|\n",
      "|       0|     1|Mr. Timothy J McC...|  male| 54|                      0|                      0|51.8625|\n",
      "|       0|     3|Master. Gosta Leo...|  male|  2|                      3|                      1| 21.075|\n",
      "|       1|     3|Mrs. Oscar W (Eli...|female| 27|                      0|                      2|11.1333|\n",
      "|       1|     2|Mrs. Nicholas (Ad...|female| 14|                      1|                      0|30.0708|\n",
      "|       1|     3|Miss. Marguerite ...|female|  4|                      1|                      1|   16.7|\n",
      "|       1|     1|Miss. Elizabeth B...|female| 58|                      0|                      0|  26.55|\n",
      "|       0|     3|Mr. William Henry...|  male| 20|                      0|                      0|   8.05|\n",
      "|       0|     3|Mr. Anders Johan ...|  male| 39|                      1|                      5| 31.275|\n",
      "|       0|     3|Miss. Hulda Amand...|female| 14|                      0|                      0| 7.8542|\n",
      "|       1|     2|Mrs. (Mary D King...|female| 55|                      0|                      0|   16.0|\n",
      "|       0|     3| Master. Eugene Rice|  male|  2|                      4|                      1| 29.125|\n",
      "|       1|     2|Mr. Charles Eugen...|  male| 23|                      0|                      0|   13.0|\n",
      "|       0|     3|Mrs. Julius (Emel...|female| 31|                      1|                      0|   18.0|\n",
      "|       1|     3|Mrs. Fatima Masse...|female| 22|                      0|                      0|  7.225|\n",
      "+--------+------+--------------------+------+---+-----------------------+-----------------------+-------+\n",
      "only showing top 20 rows\n",
      "\n"
     ]
    }
   ],
   "source": [
    "#Load the titanic.csv file into a spark dataframe and cast the values to the approprate types. Then show the dataframe\n",
    "\n",
    "df = spark.read.format(\"CSV\").option(\"header\", \"true\").load(\"titanic.csv\")\n",
    "\n",
    "df = df.withColumn(\"Survived\", df[\"Survived\"].cast(IntegerType()))\n",
    "df = df.withColumn(\"Pclass\", df[\"Pclass\"].cast(IntegerType()))\n",
    "df = df.withColumn(\"Name\", df[\"Name\"].cast(StringType()))\n",
    "df = df.withColumn(\"Sex\", df[\"Sex\"].cast(StringType()))\n",
    "df = df.withColumn(\"Age\", df[\"Age\"].cast(IntegerType()))\n",
    "df = df.withColumn(\"Siblings/Spouses Aboard\", df[\"Siblings/Spouses Aboard\"].cast(IntegerType()))\n",
    "df = df.withColumn(\"Parents/Children Aboard\", df[\"Parents/Children Aboard\"].cast(IntegerType()))\n",
    "df = df.withColumn(\"Fare\", df[\"Fare\"].cast(FloatType()))\n",
    "\n",
    "df.show()"
   ]
  },
  {
   "cell_type": "code",
   "execution_count": 5,
   "metadata": {},
   "outputs": [
    {
     "name": "stdout",
     "output_type": "stream",
     "text": [
      "+------+------+-------------------+\n",
      "|Pclass|   Sex|   Survival Percent|\n",
      "+------+------+-------------------+\n",
      "|     2|female| 0.9210526315789473|\n",
      "|     3|  male|0.13702623906705538|\n",
      "|     1|  male|0.36885245901639346|\n",
      "|     3|female|                0.5|\n",
      "|     1|female| 0.9680851063829787|\n",
      "|     2|  male| 0.1574074074074074|\n",
      "+------+------+-------------------+\n",
      "\n"
     ]
    }
   ],
   "source": [
    "# Assignment 3A\n",
    "\n",
    "#First we select the needed columns (Survived, class, sex) and group them by class and sex.\n",
    "#Then we calculate the average survival rate and show the columns with the appropriate names.\n",
    "df_survival_rate_class_sex = df.select(\"Survived\", \"Pclass\", \"Sex\").groupBy(\"Pclass\", \"Sex\").avg(\"Survived\").toDF(\"Pclass\", \"Sex\", \"Survival Percent\")\n",
    "df_survival_rate_class_sex.show()"
   ]
  },
  {
   "cell_type": "code",
   "execution_count": 7,
   "metadata": {},
   "outputs": [
    {
     "name": "stdout",
     "output_type": "stream",
     "text": [
      "The survival rate of 3-rd class children under 10 years old is: 41.509433962264154 %\n"
     ]
    }
   ],
   "source": [
    "#Assignment 3B\n",
    "\n",
    "#First we select the survived, class, age columns and filter them, so that we only have 3-rd class children under 10 y/o.\n",
    "df_third_class_children = df.select(\"Survived\", \"Pclass\", \"Age\").filter((df.Pclass == 3) & (df.Age <= 10))\n",
    "\n",
    "#Next we see the survival rate of the filtered passengers\n",
    "survived = df_third_class_children.filter(df_third_class_children.Survived == 1).count()\n",
    "\n",
    "#Now we calculate the survival rate and cast it to string so that we can print it out\n",
    "survival_rate = str(survived/df_third_class_children.count()*100)\n",
    "\n",
    "print (\"The survival rate of 3-rd class children under 10 years old is: \" + survival_rate + \" %\")"
   ]
  },
  {
   "cell_type": "code",
   "execution_count": 8,
   "metadata": {},
   "outputs": [
    {
     "name": "stdout",
     "output_type": "stream",
     "text": [
      "+-----+------------------+\n",
      "|class|     Expected fare|\n",
      "+-----+------------------+\n",
      "|    1| 84.15468752825701|\n",
      "|    3|13.707707501045244|\n",
      "|    2| 20.66218318109927|\n",
      "+-----+------------------+\n",
      "\n"
     ]
    }
   ],
   "source": [
    "#3C\n",
    "\n",
    "#First we select the class and fare from the dataframe and group them by the class and fare. \n",
    "#Then we calculate the average fares to see the expected price per class \n",
    "df_expected_fare = df.select(\"Pclass\", \"Fare\").groupBy(\"Pclass\").avg(\"Fare\").toDF(\"class\", \"Expected fare\")\n",
    "df_expected_fare.show()"
   ]
  },
  {
   "cell_type": "code",
   "execution_count": 9,
   "metadata": {},
   "outputs": [],
   "source": [
    "#We have completed our task so we close spark.\n",
    "spark.stop()"
   ]
  }
 ],
 "metadata": {
  "kernelspec": {
   "display_name": "Python 3",
   "language": "python",
   "name": "python3"
  },
  "language_info": {
   "codemirror_mode": {
    "name": "ipython",
    "version": 3
   },
   "file_extension": ".py",
   "mimetype": "text/x-python",
   "name": "python",
   "nbconvert_exporter": "python",
   "pygments_lexer": "ipython3",
   "version": "3.8.8"
  }
 },
 "nbformat": 4,
 "nbformat_minor": 4
}
